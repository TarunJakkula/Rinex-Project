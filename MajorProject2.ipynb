{
 "cells": [
  {
   "cell_type": "code",
   "execution_count": 6,
   "id": "28ae6f55",
   "metadata": {},
   "outputs": [],
   "source": [
    "import cv2"
   ]
  },
  {
   "cell_type": "code",
   "execution_count": 7,
   "id": "38d4dcbc",
   "metadata": {},
   "outputs": [],
   "source": [
    "face_cascade=cv2.CascadeClassifier(\"C:\\\\Users\\\\TARUN\\\\Downloads\\\\haarcascade_frontalface_default.xml\")"
   ]
  },
  {
   "cell_type": "code",
   "execution_count": 16,
   "id": "72f12d57",
   "metadata": {},
   "outputs": [],
   "source": [
    "img=cv2.imread(\"Downloads\\Hrithik.jpg")"
   ]
  },
  {
   "cell_type": "code",
   "execution_count": 17,
   "id": "1e1fc220",
   "metadata": {},
   "outputs": [],
   "source": [
    "gray=cv2.cvtColor(img,cv2.COLOR_BGR2GRAY)\n",
    "f=face_cascade.detectMultiScale(gray,scaleFactor=1.1,minNeighbors=9)"
   ]
  },
  {
   "cell_type": "code",
   "execution_count": 18,
   "id": "3d024b12",
   "metadata": {},
   "outputs": [],
   "source": [
    "for a,b,c,d in f:\n",
    "    img=cv2.rectangle(img,(a,b),(a+c,b+d),(0,0,255),5)"
   ]
  },
  {
   "cell_type": "code",
   "execution_count": 19,
   "id": "0e80875b",
   "metadata": {},
   "outputs": [],
   "source": [
    "cv2.imshow(\"Faces\",img)\n",
    "cv2.waitKey(0)\n",
    "cv2.destroyAllWindows()"
   ]
  },
  {
   "cell_type": "code",
   "execution_count": null,
   "id": "b3468399",
   "metadata": {},
   "outputs": [],
   "source": []
  }
 ],
 "metadata": {
  "kernelspec": {
   "display_name": "Python 3 (ipykernel)",
   "language": "python",
   "name": "python3"
  },
  "language_info": {
   "codemirror_mode": {
    "name": "ipython",
    "version": 3
   },
   "file_extension": ".py",
   "mimetype": "text/x-python",
   "name": "python",
   "nbconvert_exporter": "python",
   "pygments_lexer": "ipython3",
   "version": "3.10.4"
  }
 },
 "nbformat": 4,
 "nbformat_minor": 5
}
